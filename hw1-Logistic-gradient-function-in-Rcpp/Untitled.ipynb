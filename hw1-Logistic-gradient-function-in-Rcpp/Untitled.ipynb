{
 "cells": [
  {
   "cell_type": "code",
   "execution_count": 5,
   "metadata": {
    "collapsed": false
   },
   "outputs": [
    {
     "data": {
      "image/png": "[encoded data removed]",
      "text/plain": [
       "<matplotlib.figure.Figure at 0x10bccb1d0>"
      ]
     },
     "metadata": {},
     "output_type": "display_data"
    }
   ],
   "source": [
    "import matplotlib.pyplot as plt\n",
    "import numpy as np\n",
    "%matplotlib inline\n",
    "#here's our data to plot, all normal Python lists\n",
    "x = [1, 2, 3, 4, 5]\n",
    "y = [0.1, 0.2, 0.3, 0.4, 0.5]\n",
    "\n",
    "intensity = [\n",
    "    [5, 10, 15, 20, 25],\n",
    "    [30, 35, 40, 45, 50],\n",
    "    [55, 60, 65, 70, 75],\n",
    "    [80, 85, 90, 10, 10],\n",
    "    [105, 110, 10, 10, 10]\n",
    "]\n",
    "\n",
    "#setup the 2D grid with Numpy\n",
    "x, y = np.meshgrid(x, y)\n",
    "\n",
    "#convert intensity (list of lists) to a numpy array for plotting\n",
    "intensity = np.array(intensity)\n",
    "\n",
    "#now just plug the data into pcolormesh, it's that easy!\n",
    "plt.pcolormesh(x, y, intensity)\n",
    "plt.colorbar() #need a colorbar to show the intensity scale\n",
    "plt.show() #boom"
   ]
  },
  {
   "cell_type": "code",
   "execution_count": null,
   "metadata": {
    "collapsed": true
   },
   "outputs": [],
   "source": []
  }
 ],
 "metadata": {
  "kernelspec": {
   "display_name": "Python 2",
   "language": "python",
   "name": "python2"
  },
  "language_info": {
   "codemirror_mode": {
    "name": "ipython",
    "version": 2
   },
   "file_extension": ".py",
   "mimetype": "text/x-python",
   "name": "python",
   "nbconvert_exporter": "python",
   "pygments_lexer": "ipython2",
   "version": "2.7.6"
  }
 },
 "nbformat": 4,
 "nbformat_minor": 0
}
