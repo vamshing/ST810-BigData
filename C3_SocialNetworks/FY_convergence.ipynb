{
 "cells": [
  {
   "cell_type": "code",
   "execution_count": 29,
   "metadata": {
    "collapsed": true
   },
   "outputs": [],
   "source": [
    "import pandas as pd\n",
    "import numpy as np\n",
    "import os\n",
    "from sklearn.cross_validation import train_test_split\n",
    "import random\n",
    "import math\n",
    "import scipy\n",
    "\n",
    "path = os.getcwd()\n",
    "\n",
    "ADJ = pd.read_csv(path+'/ADJ.csv',index_col=0)\n",
    "ADJ.columns = [int(col.strip('V')) for col in ADJ.columns]\n",
    "#ADJ = ADJ.loc[1:100,1:100]"
   ]
  },
  {
   "cell_type": "code",
   "execution_count": 30,
   "metadata": {
    "collapsed": true
   },
   "outputs": [],
   "source": [
    "def floyd_warshall():\n",
    "    \n",
    "    dist_matrix = np.array(ADJ)\n",
    "    \n",
    "    for i in range(dist_matrix.shape[0]):\n",
    "        for j in range(dist_matrix.shape[1]):\n",
    "            if dist_matrix[i][j]  != 1:\n",
    "                if i == j:\n",
    "                    dist_matrix[i][j]  = 0\n",
    "                else:\n",
    "                    dist_matrix[i][j]  = 10**6\n",
    "\n",
    "    for k in range(0,1000):\n",
    "        for i in range(0,1000):\n",
    "            for j in range(0,1000):\n",
    "                if dist_matrix[i][j] > dist_matrix[i][k] + dist_matrix[k][j]:\n",
    "                    dist_matrix[i][j] = dist_matrix[i][k] + dist_matrix[k][j]\n",
    "    \n",
    "    return dist_matrix"
   ]
  },
  {
   "cell_type": "code",
   "execution_count": 31,
   "metadata": {
    "collapsed": false
   },
   "outputs": [],
   "source": [
    "dist_matrix = floyd_warshall()"
   ]
  },
  {
   "cell_type": "code",
   "execution_count": 38,
   "metadata": {
    "collapsed": false
   },
   "outputs": [],
   "source": [
    "np.savetxt(path+\"/foo.csv\", dist_matrix, delimiter=\",\")"
   ]
  },
  {
   "cell_type": "code",
   "execution_count": null,
   "metadata": {
    "collapsed": false
   },
   "outputs": [],
   "source": []
  },
  {
   "cell_type": "code",
   "execution_count": null,
   "metadata": {
    "collapsed": true
   },
   "outputs": [],
   "source": []
  }
 ],
 "metadata": {
  "kernelspec": {
   "display_name": "Python 2",
   "language": "python",
   "name": "python2"
  },
  "language_info": {
   "codemirror_mode": {
    "name": "ipython",
    "version": 2
   },
   "file_extension": ".py",
   "mimetype": "text/x-python",
   "name": "python",
   "nbconvert_exporter": "python",
   "pygments_lexer": "ipython2",
   "version": "2.7.10"
  }
 },
 "nbformat": 4,
 "nbformat_minor": 0
}
