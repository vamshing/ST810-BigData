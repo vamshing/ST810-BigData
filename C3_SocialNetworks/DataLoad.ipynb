{
 "cells": [
  {
   "cell_type": "code",
   "execution_count": 6,
   "metadata": {
    "collapsed": false
   },
   "outputs": [
    {
     "data": {
      "text/html": [
       "'/Users/vamshiguduguntla/Documents/ST810/Github/Statistical-Techniques-for-Big-Data/C3_SocialNetworks'"
      ],
      "text/latex": [
       "'/Users/vamshiguduguntla/Documents/ST810/Github/Statistical-Techniques-for-Big-Data/C3_SocialNetworks'"
      ],
      "text/markdown": [
       "'/Users/vamshiguduguntla/Documents/ST810/Github/Statistical-Techniques-for-Big-Data/C3_SocialNetworks'"
      ],
      "text/plain": [
       "[1] \"/Users/vamshiguduguntla/Documents/ST810/Github/Statistical-Techniques-for-Big-Data/C3_SocialNetworks\""
      ]
     },
     "execution_count": 6,
     "metadata": {},
     "output_type": "execute_result"
    }
   ],
   "source": [
    "getwd()"
   ]
  },
  {
   "cell_type": "code",
   "execution_count": 12,
   "metadata": {
    "collapsed": false
   },
   "outputs": [],
   "source": [
    "load(\"~/Documents/ST810/Github/Statistical-Techniques-for-Big-Data/C3_SocialNetworks/C3.RData\")"
   ]
  },
  {
   "cell_type": "code",
   "execution_count": 17,
   "metadata": {
    "collapsed": true
   },
   "outputs": [],
   "source": [
    "# ADJ\n",
    "# click\n",
    "# X_ad\n",
    "# X_user"
   ]
  },
  {
   "cell_type": "code",
   "execution_count": 19,
   "metadata": {
    "collapsed": true
   },
   "outputs": [],
   "source": [
    "write.csv(ADJ,\"~/Documents/ST810/Github/Statistical-Techniques-for-Big-Data/C3_SocialNetworks/ADJ.csv\")"
   ]
  },
  {
   "cell_type": "code",
   "execution_count": 20,
   "metadata": {
    "collapsed": true
   },
   "outputs": [],
   "source": [
    "write.csv(click,\"~/Documents/ST810/Github/Statistical-Techniques-for-Big-Data/C3_SocialNetworks/click.csv\")"
   ]
  },
  {
   "cell_type": "code",
   "execution_count": 21,
   "metadata": {
    "collapsed": true
   },
   "outputs": [],
   "source": [
    "write.csv(X_ad,\"~/Documents/ST810/Github/Statistical-Techniques-for-Big-Data/C3_SocialNetworks/X_ad.csv\")"
   ]
  },
  {
   "cell_type": "code",
   "execution_count": 22,
   "metadata": {
    "collapsed": true
   },
   "outputs": [],
   "source": [
    "write.csv(X_user,\"~/Documents/ST810/Github/Statistical-Techniques-for-Big-Data/C3_SocialNetworks/X_user.csv\")"
   ]
  },
  {
   "cell_type": "code",
   "execution_count": null,
   "metadata": {
    "collapsed": true
   },
   "outputs": [],
   "source": []
  }
 ],
 "metadata": {
  "kernelspec": {
   "display_name": "R",
   "language": "R",
   "name": "ir"
  },
  "language_info": {
   "codemirror_mode": "r",
   "file_extension": ".r",
   "mimetype": "text/x-r-source",
   "name": "R",
   "pygments_lexer": "r",
   "version": "3.2.0"
  }
 },
 "nbformat": 4,
 "nbformat_minor": 0
}
