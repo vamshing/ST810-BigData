{
 "cells": [
  {
   "cell_type": "code",
   "execution_count": null,
   "metadata": {
    "collapsed": false
   },
   "outputs": [],
   "source": [
    "import pandas as pd\n",
    "import numpy as np\n",
    "import os\n",
    "from sklearn.cross_validation import train_test_split\n",
    "import random\n",
    "import math\n",
    "import scipy\n",
    "import collections\n",
    "from sklearn.metrics import confusion_matrix,accuracy_score\n",
    "\n",
    "path = os.getcwd()\n",
    "\n",
    "ADJ = pd.read_csv(path+'/ADJ.csv',index_col=0)\n",
    "ADJ.columns = [int(col.strip('V')) for col in ADJ.columns]\n",
    "click = pd.read_csv(path+'/click.csv',index_col=0)\n",
    "click.columns = [int(col.strip('V')) for col in click.columns]\n",
    "X_ad = pd.read_csv(path+'/X_ad.csv',index_col=0)\n",
    "X_user = pd.read_csv(path+'/X_user.csv',index_col=0)\n",
    "\n",
    "X_user = X_user[:100]\n",
    "click = click[:100]\n",
    "ADJ = ADJ.loc[1:100,1:100]\n",
    "\n",
    "# normalize the demographics\n",
    "X_user['age'] = X_user.apply(lambda x : (x[0] - np.min(X_user.age))/(np.max(X_user.age) - np.min(X_user.age)),axis=1)\n",
    "X_user['edu'] = X_user.apply(lambda x : (x[2] - np.min(X_user.edu))/(np.max(X_user.edu) - np.min(X_user.edu)),axis=1)\n",
    "X_user['income'] = X_user.apply(lambda x : (x[3] - np.min(X_user.income))/(np.max(X_user.income) - np.min(X_user.income)),axis=1)"
   ]
  },
  {
   "cell_type": "markdown",
   "metadata": {},
   "source": [
    "### Sandbox"
   ]
  },
  {
   "cell_type": "code",
   "execution_count": null,
   "metadata": {
    "collapsed": false
   },
   "outputs": [],
   "source": [
    "\"\"\"spits out the k nearest neighbours of the index(user) of an unweighted,undirected graph\"\"\"\n",
    "k = 30\n",
    "idx = 1 \n",
    "\n",
    "\n",
    "def distance_matrix(size):\n",
    "    '''returns the euclidean matrix between all pair users by (age,gender,income,degree of connection)'''\n",
    "    dist_matrix = np.zeros((size,size))\n",
    "    for k in range(0,size):\n",
    "        for i in range(0,size):\n",
    "            degree_of_connection = degree_mat[k+1][i+1]\n",
    "            v1 = np.append(np.array(X_user.loc[k+1,:]),1)\n",
    "            if degree_of_connection == 0:\n",
    "                v2 = np.append(np.array(X_user.loc[i+1,:]),1.)\n",
    "            else:\n",
    "                v2 = np.append(np.array(X_user.loc[i+1,:]),degree_of_connection)\n",
    "            dist_matrix[k][i] = scipy.spatial.distance.euclidean(v1, v2)\n",
    "    return dist_matrix\n",
    "\n",
    "\n",
    "\n",
    "def neighbour_set_dfs(idx):\n",
    "    \n",
    "    '''returns the connected graph of the candidate'''\n",
    "    \n",
    "    def user_graph():\n",
    "        \n",
    "        '''Returns the graph (adjacency list) of the user network'''\n",
    "    \n",
    "        graph = dict()\n",
    "        \n",
    "        for i in range(1,101):\n",
    "            graph[i] = set(list(ADJ.columns[ADJ.loc[i,:] == 1]))\n",
    "        return graph\n",
    "\n",
    "    def dfs(graph, start, visited=None):\n",
    "        \n",
    "        '''Returns the total connected components (list) of the given user in his/her network'''\n",
    "        '''credits: Eddmann'''\n",
    "    \n",
    "        if visited is None:\n",
    "            visited = set()\n",
    "        visited.add(start)\n",
    "        for next in graph[start] - visited:\n",
    "            dfs(graph, next, visited)\n",
    "        return visited\n",
    "\n",
    "    return dfs(user_graph(),idx)\n"
   ]
  },
  {
   "cell_type": "code",
   "execution_count": null,
   "metadata": {
    "collapsed": false
   },
   "outputs": [],
   "source": [
    "degree_mat = pd.read_csv(path+'/dist_matrix.csv',header=None)\n",
    "degree_mat.columns = [_ for _ in range(1,1001)]\n",
    "degree_mat.index = np.arange(1, len(degree_mat) + 1)"
   ]
  },
  {
   "cell_type": "code",
   "execution_count": null,
   "metadata": {
    "collapsed": false
   },
   "outputs": [],
   "source": [
    "distance_matrix_100 = distance_matrix(100)"
   ]
  },
  {
   "cell_type": "code",
   "execution_count": null,
   "metadata": {
    "collapsed": false
   },
   "outputs": [],
   "source": [
    "click.head()"
   ]
  },
  {
   "cell_type": "code",
   "execution_count": null,
   "metadata": {
    "collapsed": true
   },
   "outputs": [],
   "source": [
    "user_id = 1\n",
    "ad_test = click[:user_id] # user 1 has viewd 84% of the ad's\n",
    "ad_test = ad_test.dropna(axis=1)"
   ]
  },
  {
   "cell_type": "code",
   "execution_count": null,
   "metadata": {
    "collapsed": false
   },
   "outputs": [],
   "source": [
    "ad_test"
   ]
  },
  {
   "cell_type": "code",
   "execution_count": null,
   "metadata": {
    "collapsed": false
   },
   "outputs": [],
   "source": [
    "user_1_ad_ids = ad_test.columns"
   ]
  },
  {
   "cell_type": "code",
   "execution_count": null,
   "metadata": {
    "collapsed": false
   },
   "outputs": [],
   "source": [
    "#neighbour_set_dfs(user_id)\n",
    "\n",
    "\n",
    "def social_network(user_id,k):\n",
    "    \n",
    "    '''Returns the pruned social network which has the user_ids with highest predictive power'''\n",
    "\n",
    "    unpruned = list(neighbour_set_dfs(user_id))\n",
    "    sim_dict = dict()\n",
    "    pruned = list()\n",
    "    \n",
    "    for i in range(len(unpruned)):\n",
    "        sim_dict[unpruned[i]] = distance_matrix_100[user_id-1,unpruned[i]-1]\n",
    "    \n",
    "    sorted_sim_dict = sorted(sim_dict.items(), key=lambda x: (-x[1], x[0]),reverse=True)\n",
    "    \n",
    "    for _ in range(1,k+1):\n",
    "        pruned.append(sorted_sim_dict[_][0])\n",
    "        \n",
    "    return pruned\n",
    "\n",
    "#social_network(6,12) "
   ]
  },
  {
   "cell_type": "code",
   "execution_count": 279,
   "metadata": {
    "collapsed": false
   },
   "outputs": [],
   "source": [
    "def prob_ad_click(k,ad_id,user_id):\n",
    "    \n",
    "    usr_soc_nw = social_network(user_id,k)\n",
    "    \n",
    "    def prune_by_viwership(lst):\n",
    "        \n",
    "        '''returns only those people in social network who viewd the ad'''\n",
    "        pruned = list()\n",
    "        for user in lst:\n",
    "            if (click.loc[user,ad_id] == 1) or (click.loc[user,ad_id] == 0):\n",
    "                pruned.append(user)\n",
    "        return pruned\n",
    "    \n",
    "    usr_soc_nw = prune_by_viwership(usr_soc_nw)\n",
    "    cnt_click = 0.\n",
    "    cnt_noclick = 0.\n",
    "    \n",
    "    for user in usr_soc_nw:\n",
    "        if click.loc[user,ad_id] == 1:\n",
    "            cnt_click += 1\n",
    "        else:\n",
    "            cnt_noclick += 1\n",
    "    \n",
    "    prob = (cnt_click/(cnt_click+cnt_noclick+1.)) * 1.\n",
    "    return prob"
   ]
  },
  {
   "cell_type": "code",
   "execution_count": 280,
   "metadata": {
    "collapsed": false
   },
   "outputs": [
    {
     "data": {
      "text/html": [
       "<div style=\"max-height:1000px;max-width:1500px;overflow:auto;\">\n",
       "<table border=\"1\" class=\"dataframe\">\n",
       "  <thead>\n",
       "    <tr style=\"text-align: right;\">\n",
       "      <th></th>\n",
       "      <th>1</th>\n",
       "      <th>2</th>\n",
       "      <th>4</th>\n",
       "      <th>5</th>\n",
       "      <th>6</th>\n",
       "      <th>7</th>\n",
       "      <th>8</th>\n",
       "      <th>9</th>\n",
       "      <th>10</th>\n",
       "      <th>11</th>\n",
       "      <th>...</th>\n",
       "      <th>88</th>\n",
       "      <th>90</th>\n",
       "      <th>91</th>\n",
       "      <th>92</th>\n",
       "      <th>94</th>\n",
       "      <th>95</th>\n",
       "      <th>96</th>\n",
       "      <th>98</th>\n",
       "      <th>99</th>\n",
       "      <th>100</th>\n",
       "    </tr>\n",
       "  </thead>\n",
       "  <tbody>\n",
       "    <tr>\n",
       "      <th>1</th>\n",
       "      <td>1</td>\n",
       "      <td>1</td>\n",
       "      <td>1</td>\n",
       "      <td>1</td>\n",
       "      <td>0</td>\n",
       "      <td>1</td>\n",
       "      <td>0</td>\n",
       "      <td>1</td>\n",
       "      <td>1</td>\n",
       "      <td>0</td>\n",
       "      <td>...</td>\n",
       "      <td>1</td>\n",
       "      <td>1</td>\n",
       "      <td>0</td>\n",
       "      <td>1</td>\n",
       "      <td>1</td>\n",
       "      <td>0</td>\n",
       "      <td>0</td>\n",
       "      <td>1</td>\n",
       "      <td>1</td>\n",
       "      <td>1</td>\n",
       "    </tr>\n",
       "  </tbody>\n",
       "</table>\n",
       "<p>1 rows × 84 columns</p>\n",
       "</div>"
      ],
      "text/plain": [
       "   1    2    4    5    6    7    8    9    10   11  ...   88   90   91   92   \\\n",
       "1    1    1    1    1    0    1    0    1    1    0 ...     1    1    0    1   \n",
       "\n",
       "   94   95   96   98   99   100  \n",
       "1    1    0    0    1    1    1  \n",
       "\n",
       "[1 rows x 84 columns]"
      ]
     },
     "execution_count": 280,
     "metadata": {},
     "output_type": "execute_result"
    }
   ],
   "source": [
    "ad_test"
   ]
  },
  {
   "cell_type": "code",
   "execution_count": 291,
   "metadata": {
    "collapsed": false
   },
   "outputs": [
    {
     "name": "stdout",
     "output_type": "stream",
     "text": [
      "7 0.452380952381\n"
     ]
    }
   ],
   "source": [
    "k = 7\n",
    "result = list()\n",
    "\n",
    "for ad_id in user_1_ad_ids:\n",
    "    if prob_ad_click(k,ad_id,99) > 0.3:\n",
    "        result.append(1)\n",
    "    else:\n",
    "        result.append(0)\n",
    "        \n",
    "print k,accuracy_score(ad_test.loc[1,:], result)"
   ]
  },
  {
   "cell_type": "code",
   "execution_count": null,
   "metadata": {
    "collapsed": false
   },
   "outputs": [],
   "source": []
  },
  {
   "cell_type": "code",
   "execution_count": null,
   "metadata": {
    "collapsed": false
   },
   "outputs": [],
   "source": []
  },
  {
   "cell_type": "code",
   "execution_count": null,
   "metadata": {
    "collapsed": false
   },
   "outputs": [],
   "source": []
  },
  {
   "cell_type": "code",
   "execution_count": null,
   "metadata": {
    "collapsed": true
   },
   "outputs": [],
   "source": []
  }
 ],
 "metadata": {
  "kernelspec": {
   "display_name": "Python 2",
   "language": "python",
   "name": "python2"
  },
  "language_info": {
   "codemirror_mode": {
    "name": "ipython",
    "version": 2
   },
   "file_extension": ".py",
   "mimetype": "text/x-python",
   "name": "python",
   "nbconvert_exporter": "python",
   "pygments_lexer": "ipython2",
   "version": "2.7.10"
  }
 },
 "nbformat": 4,
 "nbformat_minor": 0
}
