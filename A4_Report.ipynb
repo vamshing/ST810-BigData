{
 "cells": [
  {
   "cell_type": "markdown",
   "metadata": {},
   "source": [
    "# Investigating BootStrap Intervals for LASSO\n",
    "\n",
    "** Description ** : The purpose of this study is to simulate the properties of Bootstrap Confidence intervals for LASSO.\n",
    "\n",
    "\n",
    "**Method** : \n",
    "- Generated m(=1000) data-sets with p(=10,100,1000) samples with 5 covariates.\n",
    "- Calculating the bootstrap confidence interval \n",
    "- Including a flag which would check for th true Beta value present in the Confidence interval or not\n",
    "-  Computing the probability given by the formula : #Cells with Beta present in CI/Total CI's generated.\n",
    "- This is repeated and analyzed for the cases p=10,100,1000\n",
    "\n",
    "**Results**:\n",
    "\n",
    "***1.p=1000 samples**\n",
    "\n",
    "beta1    0.98\n",
    "beta2    0.98\n",
    "beta3    0.98\n",
    "beta4    0.99\n",
    "beta5    0.94\n",
    "\n",
    "\n",
    "\n",
    "\n",
    "\n"
   ]
  },
  {
   "cell_type": "code",
   "execution_count": null,
   "metadata": {
    "collapsed": true
   },
   "outputs": [],
   "source": []
  }
 ],
 "metadata": {
  "kernelspec": {
   "display_name": "Python 2",
   "language": "python",
   "name": "python2"
  },
  "language_info": {
   "codemirror_mode": {
    "name": "ipython",
    "version": 2
   },
   "file_extension": ".py",
   "mimetype": "text/x-python",
   "name": "python",
   "nbconvert_exporter": "python",
   "pygments_lexer": "ipython2",
   "version": "2.7.6"
  }
 },
 "nbformat": 4,
 "nbformat_minor": 0
}
