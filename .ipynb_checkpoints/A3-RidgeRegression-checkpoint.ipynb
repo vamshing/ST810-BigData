{
 "cells": [
  {
   "cell_type": "markdown",
   "metadata": {},
   "source": [
    "# Simulating Ridge regression and Ordinary Least Squares"
   ]
  },
  {
   "cell_type": "markdown",
   "metadata": {},
   "source": [
    "Created in iPython Notebook 09/08/2015 by\n",
    "Guduguntla Vamshi <gudugu@ncsu.edu>"
   ]
  },
  {
   "cell_type": "markdown",
   "metadata": {
    "collapsed": true
   },
   "source": [
    "** Description **\n",
    "- Simulating m(=1000) data-sets each of n(=100) observations, with p(=10) covariates \n",
    "- Data set generated with p(=10) equal parameters of value k(=0.5,initially)\n",
    "- Showing results by varying n,p,k,rho \n",
    "- Covariance between the predictors is given by Cov(Xj,Xl) = math.pow(rho,(j-l))"
   ]
  },
  {
   "cell_type": "code",
   "execution_count": null,
   "metadata": {
    "collapsed": false
   },
   "outputs": [],
   "source": [
    "import pandas as pd\n",
    "import numpy as np\n",
    "import random\n",
    "import math\n",
    "from scipy.spatial.distance import pdist, wminkowski, squareform\n",
    "from sklearn import linear_model\n",
    "import statsmodels.api as sm\n",
    "import matplotlib.pyplot as plt\n",
    "%matplotlib inline  "
   ]
  },
  {
   "cell_type": "markdown",
   "metadata": {},
   "source": [
    "** Simulate the 1000 data-sets as the Mean Squared Error for the OLS & Ridge Regression **\n",
    "This follows the equation for regression : Y = beta * X + error , where error ~ N(0,1)"
   ]
  },
  {
   "cell_type": "code",
   "execution_count": null,
   "metadata": {
    "collapsed": false
   },
   "outputs": [],
   "source": [
    "def simulation_show(m,n,p,k,rho):\n",
    "    beta = np.mat(np.repeat(k,p)).reshape((p, 1))\n",
    "    sigma = np.power(rho,squareform(pdist(np.array([[1],[2],[3],[4],[5],[6],[7],[8],[9],[10]]))))\n",
    "    sigma12 = np.linalg.cholesky(sigma)\n",
    "    df = pd.DataFrame(columns=['Ordinary_LeastSq', 'RidgeRegression'])\n",
    "    for i in range(m):\n",
    "        random.seed(999*i)\n",
    "        X = np.mat(np.random.randn(n, p))*np.mat(sigma12)\n",
    "        Y = X * beta + np.mat(np.random.randn(n).reshape((100, 1)))\n",
    "        # Fit the OLS:\n",
    "        est_ols = sm.OLS(Y, X)\n",
    "        est_ols = est_ols.fit()\n",
    "        param_ols = np.mat(est_ols.params.reshape((10,1)))  \n",
    "        #Fit the Ridge:\n",
    "        ridge=linear_model.Ridge(alpha=.1)\n",
    "        est_ridge = ridge.fit(Y,X)\n",
    "        param_ridge = np.mat(est_ridge.coef_.reshape((10,1)))\n",
    "        df.loc[i,'Ordinary_LeastSq'] = np.mean(np.power((param_ols - beta),2))\n",
    "        df.loc[i,'RidgeRegression'] = np.mean(np.power((param_ridge - beta),2))\n",
    "    return np.mean(df['Ordinary_LeastSq']),np.mean(df['RidgeRegression'])"
   ]
  },
  {
   "cell_type": "markdown",
   "metadata": {
    "collapsed": false
   },
   "source": [
    "** Compare Mean of MSE over m DataSets between OLE and Ridge Regression **\n",
    " 1.Effect of Number of Covariates "
   ]
  },
  {
   "cell_type": "code",
   "execution_count": null,
   "metadata": {
    "collapsed": false
   },
   "outputs": [],
   "source": [
    "m,n,k,rho = 1000,100,0.5,0.10\n",
    "df_result = pd.DataFrame(columns=['Ordinary_LeastSq', 'RidgeRegression'])\n",
    "for j in range(100):\n",
    "    df_result.loc[j,'Ordinary_LeastSq'] = simulation_show(m,n,j,k,rho)[0]\n",
    "    df_result.loc[j,'RidgeRegression'] = simulation_show(m,n,j,k,rho)[1]\n",
    "x = np.arange(100)\n",
    "plt.plot(x, df_result['Ordinary_LeastSq'],color='k')\n",
    "plt.plot(x, df_result['RidgeRegression'],color='g')\n",
    "plt.title('1.Effect of Number of Covariates')\n",
    "plt.show()"
   ]
  },
  {
   "cell_type": "code",
   "execution_count": null,
   "metadata": {
    "collapsed": false
   },
   "outputs": [],
   "source": [
    "n,k,p,rho = 100,0.5,10,0.1\n",
    "df_result = pd.DataFrame(columns=['Ordinary_LeastSq', 'RidgeRegression'])\n",
    "for j in range(1000):\n",
    "    df_result.loc[j,'Ordinary_LeastSq'] = simulation_show(j,n,p,k,rho)[0]\n",
    "    df_result.loc[j,'RidgeRegression'] = simulation_show(j,n,p,k,rho)[1]\n",
    "x = np.range(1000)\n",
    "plt.plot(x, df_result['Ordinary_LeastSq'],color='k')\n",
    "plt.plot(x, df_result['RidgeRegression'],color='g')\n",
    "plt.title('1.Effect of Number of DataSets Simuated')\n",
    "plt.show()"
   ]
  },
  {
   "cell_type": "code",
   "execution_count": null,
   "metadata": {
    "collapsed": true
   },
   "outputs": [],
   "source": []
  },
  {
   "cell_type": "code",
   "execution_count": null,
   "metadata": {
    "collapsed": true
   },
   "outputs": [],
   "source": []
  }
 ],
 "metadata": {
  "kernelspec": {
   "display_name": "Python 2",
   "language": "python",
   "name": "python2"
  },
  "language_info": {
   "codemirror_mode": {
    "name": "ipython",
    "version": 2
   },
   "file_extension": ".py",
   "mimetype": "text/x-python",
   "name": "python",
   "nbconvert_exporter": "python",
   "pygments_lexer": "ipython2",
   "version": "2.7.6"
  }
 },
 "nbformat": 4,
 "nbformat_minor": 0
}
