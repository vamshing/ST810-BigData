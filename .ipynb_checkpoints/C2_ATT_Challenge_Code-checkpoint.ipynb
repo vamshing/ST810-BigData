{
 "cells": [
  {
   "cell_type": "code",
   "execution_count": 1,
   "metadata": {
    "collapsed": true
   },
   "outputs": [],
   "source": [
    "import pandas as pd\n",
    "import csv\n",
    "import os\n",
    "import numpy as np\n",
    "from sklearn.cross_validation import StratifiedKFold, cross_val_score, train_test_split \n",
    "from sklearn import linear_model\n",
    "from sklearn.ensemble import RandomForestRegressor"
   ]
  },
  {
   "cell_type": "code",
   "execution_count": 2,
   "metadata": {
    "collapsed": false
   },
   "outputs": [],
   "source": [
    "path_local = os.getcwd()\n",
    "df = pd.read_csv(path_local + '/GRADUATION_WITH_CENSUS.csv',index_col=0)\n",
    "target_variable = 'ALL_RATE_1112'"
   ]
  },
  {
   "cell_type": "markdown",
   "metadata": {},
   "source": [
    "**Data Cleaning**"
   ]
  },
  {
   "cell_type": "code",
   "execution_count": 3,
   "metadata": {
    "collapsed": false
   },
   "outputs": [],
   "source": [
    "df = df.drop(['leaid11','STNAM','FIPST','leanm11','MAM_RATE_1112','MAS_RATE_1112','MTR_RATE_1112',\n",
    "         'MAM_RATE_1112','MAS_RATE_1112','MBL_RATE_1112','MBL_RATE_1112','MHI_RATE_1112','MWH_COHORT_1112',\n",
    "'MWH_RATE_1112','CWD_RATE_1112','ECD_RATE_1112','Flag','Tract','State.1',\t'State_name','County.1','County_name','Tract.Code',\t'School.District',\n",
    "'District.ID','GIDTR','County','State'], axis=1)\n",
    "\n",
    "#df['MAS_COHORT_1112'].isnull().sum().sum()\n",
    "\n",
    "# LIST OF COLUMNS\n",
    "a = np.array(df.columns.delete([1]))\n",
    "\n",
    "for i in range(len(a)):\n",
    "    df[a[i]] = df[a[i]].replace( '[\\$,)]','', regex=True ).replace( '[(]','-',   regex=True ).astype(float)\n",
    "\n",
    "impute_cols = pd.DataFrame({\"col_name\":[],\"num_missing\":[]}) \n",
    "for i in range(len(a)):\n",
    "    impute_cols.loc[i,'col_name'] = a[i]\n",
    "    impute_cols.loc[i,'num_missing'] = df[a[i]].isnull().sum().sum()\n",
    "\n",
    "a1 = np.array(impute_cols[impute_cols.num_missing > 0].col_name)\n",
    "\n",
    "def impute_missing_by_mean(a1):\n",
    "    for i in range(len(a1)):\n",
    "        df[a1[i]] = df[a1[i]].fillna(df[a1[i]].mean())\n",
    "impute_missing_by_mean(a1)\n",
    "\n",
    "df.ALL_RATE_1112.isnull().sum().sum()\n",
    "\n",
    "df = df[np.isfinite(df['ALL_RATE_1112'])]\n",
    "df = df.reset_index(drop=True)"
   ]
  },
  {
   "cell_type": "markdown",
   "metadata": {},
   "source": [
    "**Dimension Reduction**"
   ]
  },
  {
   "cell_type": "code",
   "execution_count": 4,
   "metadata": {
    "collapsed": false
   },
   "outputs": [],
   "source": [
    "impute_cols = pd.DataFrame({\"col_name\":[],\"num_missing\":[]}) \n",
    "for i in range(len(a)):\n",
    "    impute_cols.loc[i,'col_name'] = a[i]\n",
    "    impute_cols.loc[i,'num_missing'] = df[a[i]].isnull().sum().sum()"
   ]
  },
  {
   "cell_type": "code",
   "execution_count": 5,
   "metadata": {
    "collapsed": false
   },
   "outputs": [],
   "source": [
    "frame_2 = df.corr() \n",
    "frame_2 = frame_2.applymap(lambda x : abs(x))\n",
    "\n",
    "frame_corr = frame_2.sort(['ALL_RATE_1112'], ascending=[0])\n",
    "\n",
    "frame_corr = frame_corr['ALL_RATE_1112']\n",
    "\n",
    "a = frame_corr.index.tolist()\n",
    "reduced_variable_array = a[:100]\n",
    "df = df.ix[:,reduced_variable_array]"
   ]
  },
  {
   "cell_type": "code",
   "execution_count": 6,
   "metadata": {
    "collapsed": false
   },
   "outputs": [],
   "source": [
    "#X = df.ix[:,1:100].values\n",
    "from sklearn.preprocessing import StandardScaler\n",
    "X_std = StandardScaler().fit_transform(df.ix[:,1:100])\n",
    "mean_vec = np.mean(X_std, axis=0)\n",
    "cov_mat = (X_std - mean_vec).T.dot((X_std - mean_vec)) / (X_std.shape[0]-1)\n",
    "cov_mat = np.cov(X_std.T)\n",
    "eigenValues, eigenVectors = np.linalg.eig(cov_mat)\n",
    "\n",
    "\"\"\"idx = eigenValues.argsort()[::-1]   \n",
    "eigenValues = eigenValues[idx]\n",
    "eigenVectors = eigenVectors[:,idx]\n",
    "\"\"\"\n",
    "#print('\\nEigenvalues \\n%s' %eigenValues)\n",
    "idx = eigenValues.argsort()[::-1]   "
   ]
  },
  {
   "cell_type": "code",
   "execution_count": 7,
   "metadata": {
    "collapsed": false
   },
   "outputs": [],
   "source": [
    "df = df.ix[:,0:20]"
   ]
  },
  {
   "cell_type": "code",
   "execution_count": 8,
   "metadata": {
    "collapsed": false
   },
   "outputs": [
    {
     "name": "stdout",
     "output_type": "stream",
     "text": [
      "('Average Squared Error', 112.70572727191509)\n"
     ]
    },
    {
     "name": "stderr",
     "output_type": "stream",
     "text": [
      "/Library/Python/2.7/site-packages/sklearn/linear_model/coordinate_descent.py:444: ConvergenceWarning: Objective did not converge. You might want to increase the number of iterations\n",
      "  ConvergenceWarning)\n"
     ]
    }
   ],
   "source": [
    "lasso = linear_model.Lasso(alpha=0.1)\n",
    "lasso.fit(df.ix[:6600,df.columns != 'ALL_RATE_1112'],df.ix[:6600,'ALL_RATE_1112'])\n",
    "lasso.predict(df.ix[6600:,df.columns != 'ALL_RATE_1112'])\n",
    "print(\"Average Squared Error\",np.mean((lasso.predict(df.ix[6600:,df.columns != 'ALL_RATE_1112']) - df.ix[6600:,'ALL_RATE_1112']) ** 2))"
   ]
  },
  {
   "cell_type": "code",
   "execution_count": 12,
   "metadata": {
    "collapsed": false
   },
   "outputs": [
    {
     "name": "stdout",
     "output_type": "stream",
     "text": [
      "('Average Squared Error', 112.75131531219593)\n"
     ]
    }
   ],
   "source": [
    "regr = linear_model.LinearRegression()\n",
    "regr.fit(df.ix[:6600,df.columns != 'ALL_RATE_1112'],df.ix[:6600,'ALL_RATE_1112'])\n",
    "regr.predict(df.ix[6600:,df.columns != 'ALL_RATE_1112'])\n",
    "print(\"Average Squared Error\",np.mean((regr.predict(df.ix[6600:,df.columns != 'ALL_RATE_1112']) - df.ix[6600:,'ALL_RATE_1112']) ** 2))"
   ]
  },
  {
   "cell_type": "code",
   "execution_count": 13,
   "metadata": {
    "collapsed": false
   },
   "outputs": [
    {
     "data": {
      "text/plain": [
       "118.95403107360454"
      ]
     },
     "execution_count": 13,
     "metadata": {},
     "output_type": "execute_result"
    }
   ],
   "source": [
    "rf = RandomForestRegressor(n_estimators=20)\n",
    "rf.fit(df.ix[:6600,df.columns != 'ALL_RATE_1112'],df.ix[:6600,'ALL_RATE_1112'])\n",
    "np.mean((rf.predict(df.ix[6600:,df.columns != 'ALL_RATE_1112']) - df.ix[6600:,'ALL_RATE_1112'])**2)"
   ]
  },
  {
   "cell_type": "markdown",
   "metadata": {},
   "source": [
    "**K-Fold Cross Validation**"
   ]
  },
  {
   "cell_type": "code",
   "execution_count": 32,
   "metadata": {
    "collapsed": false
   },
   "outputs": [
    {
     "name": "stdout",
     "output_type": "stream",
     "text": [
      "-109.349986809\n"
     ]
    }
   ],
   "source": [
    "from sklearn.datasets import load_iris\n",
    "from sklearn.cross_validation import train_test_split\n",
    "from sklearn import metrics\n",
    "from sklearn.cross_validation import cross_val_score\n",
    "X = df.ix[:,df.columns != 'ALL_RATE_1112']\n",
    "y = df.ix[:,'ALL_RATE_1112']\n",
    "X_train, X_test, y_train, y_test = train_test_split(X, y, random_state=4)\n",
    "from sklearn.cross_validation import KFold\n",
    "kf = KFold(25, n_folds=5, shuffle=False)\n",
    "scores = cross_val_score(regr, X, y, cv=5, scoring='mean_squared_error')\n",
    "print scores.mean()"
   ]
  },
  {
   "cell_type": "code",
   "execution_count": null,
   "metadata": {
    "collapsed": false
   },
   "outputs": [],
   "source": []
  },
  {
   "cell_type": "code",
   "execution_count": null,
   "metadata": {
    "collapsed": true
   },
   "outputs": [],
   "source": []
  }
 ],
 "metadata": {
  "kernelspec": {
   "display_name": "Python 2",
   "language": "python",
   "name": "python2"
  },
  "language_info": {
   "codemirror_mode": {
    "name": "ipython",
    "version": 2
   },
   "file_extension": ".py",
   "mimetype": "text/x-python",
   "name": "python",
   "nbconvert_exporter": "python",
   "pygments_lexer": "ipython2",
   "version": "2.7.10"
  }
 },
 "nbformat": 4,
 "nbformat_minor": 0
}
