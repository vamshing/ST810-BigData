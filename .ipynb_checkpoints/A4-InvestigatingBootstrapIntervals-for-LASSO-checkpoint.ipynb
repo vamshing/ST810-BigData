{
 "cells": [
  {
   "cell_type": "markdown",
   "metadata": {},
   "source": [
    "# Investigating BootStrap Intervals for LASSO"
   ]
  },
  {
   "cell_type": "markdown",
   "metadata": {},
   "source": [
    "Created in iPython Notebook 09/16/2015 by\n",
    "  **Guduguntla Vamshi <gudugu@ncsu.edu>**"
   ]
  },
  {
   "cell_type": "markdown",
   "metadata": {},
   "source": [
    "** Description **\n",
    "- Simulating m(=1000) data-sets with p(=10) covariates \n",
    "- Data set generated with p(=10) randomly generated parameter estimates.\n"
   ]
  },
  {
   "cell_type": "code",
   "execution_count": 121,
   "metadata": {
    "collapsed": true
   },
   "outputs": [],
   "source": [
    "import numpy as np\n",
    "from scipy import stats\n",
    "import scikits.bootstrap as boot\n",
    "from sklearn.linear_model import Lasso\n",
    "import pandas as pd\n",
    "import matplotlib as plt\n",
    "%matplotlib inline \n",
    "table = pd.DataFrame(columns=['beta1','beta2','beta3','beta4','beta5'])\n"
   ]
  },
  {
   "cell_type": "code",
   "execution_count": 126,
   "metadata": {
    "collapsed": false
   },
   "outputs": [],
   "source": [
    "def bootstrap_lasso(m):\n",
    "    np.random.seed(m*212222)\n",
    "    n_samples, n_features = 1000, 5\n",
    "    X = np.random.randn(n_samples, n_features)   \n",
    "    coef = 3 * np.random.randn(n_features)\n",
    "    inds = np.arange(n_features)\n",
    "    np.random.shuffle(inds)\n",
    "    coef[inds[10:]] = 0  # sparsify coef\n",
    "    y = np.dot(X, coef)    \n",
    "    lasso = Lasso(alpha=0.1)\n",
    "    y_pred_lasso = lasso.fit(X, y)   \n",
    "    global r1\n",
    "    r1 = lasso.coef_\n",
    "    def my_function2(i):\n",
    "        lasso = Lasso(alpha=0.1)\n",
    "        lasso.fit(X[i],y[i])\n",
    "        return lasso.coef_\n",
    "# 95% Confidence Interval \n",
    "    global ci\n",
    "    ci = boot.ci(np.arange(len(X)), statfunction=my_function2, alpha=0.01, n_samples=1000, method='pi')    \n",
    "    table.loc[m,'beta1'] = int(r1[0] > ci[0][0] and r1[0] < ci[1][0])\n",
    "    table.loc[m,'beta2'] = int(r1[1] > ci[0][1] and r1[1] < ci[1][1])\n",
    "    table.loc[m,'beta3'] = int(r1[2] > ci[0][2] and r1[2] < ci[1][2])\n",
    "    table.loc[m,'beta4'] = int(r1[3] > ci[0][3] and r1[3] < ci[1][3])\n",
    "    table.loc[m,'beta5'] = int(r1[4] > ci[0][4] and r1[4] < ci[1][4])\n"
   ]
  },
  {
   "cell_type": "markdown",
   "metadata": {},
   "source": [
    "**Simuate m=1000 datasets**"
   ]
  },
  {
   "cell_type": "code",
   "execution_count": 127,
   "metadata": {
    "collapsed": false
   },
   "outputs": [
    {
     "name": "stderr",
     "output_type": "stream",
     "text": [
      "/Library/Python/2.7/site-packages/scikits/bootstrap/bootstrap.py:202: InstabilityWarning: Some values used top 10 low/high samples; results may be unstable.\n",
      "  warnings.warn(\"Some values used top 10 low/high samples; results may be unstable.\", InstabilityWarning)\n",
      "/Library/Python/2.7/site-packages/scikits/bootstrap/bootstrap.py:202: InstabilityWarning: Some values used top 10 low/high samples; results may be unstable.\n",
      "  warnings.warn(\"Some values used top 10 low/high samples; results may be unstable.\", InstabilityWarning)\n",
      "/Library/Python/2.7/site-packages/scikits/bootstrap/bootstrap.py:202: InstabilityWarning: Some values used top 10 low/high samples; results may be unstable.\n",
      "  warnings.warn(\"Some values used top 10 low/high samples; results may be unstable.\", InstabilityWarning)\n",
      "/Library/Python/2.7/site-packages/scikits/bootstrap/bootstrap.py:202: InstabilityWarning: Some values used top 10 low/high samples; results may be unstable.\n",
      "  warnings.warn(\"Some values used top 10 low/high samples; results may be unstable.\", InstabilityWarning)\n",
      "/Library/Python/2.7/site-packages/scikits/bootstrap/bootstrap.py:202: InstabilityWarning: Some values used top 10 low/high samples; results may be unstable.\n",
      "  warnings.warn(\"Some values used top 10 low/high samples; results may be unstable.\", InstabilityWarning)\n",
      "/Library/Python/2.7/site-packages/scikits/bootstrap/bootstrap.py:202: InstabilityWarning: Some values used top 10 low/high samples; results may be unstable.\n",
      "  warnings.warn(\"Some values used top 10 low/high samples; results may be unstable.\", InstabilityWarning)\n",
      "/Library/Python/2.7/site-packages/scikits/bootstrap/bootstrap.py:202: InstabilityWarning: Some values used top 10 low/high samples; results may be unstable.\n",
      "  warnings.warn(\"Some values used top 10 low/high samples; results may be unstable.\", InstabilityWarning)\n",
      "/Library/Python/2.7/site-packages/scikits/bootstrap/bootstrap.py:202: InstabilityWarning: Some values used top 10 low/high samples; results may be unstable.\n",
      "  warnings.warn(\"Some values used top 10 low/high samples; results may be unstable.\", InstabilityWarning)\n",
      "/Library/Python/2.7/site-packages/scikits/bootstrap/bootstrap.py:202: InstabilityWarning: Some values used top 10 low/high samples; results may be unstable.\n",
      "  warnings.warn(\"Some values used top 10 low/high samples; results may be unstable.\", InstabilityWarning)\n",
      "/Library/Python/2.7/site-packages/scikits/bootstrap/bootstrap.py:202: InstabilityWarning: Some values used top 10 low/high samples; results may be unstable.\n",
      "  warnings.warn(\"Some values used top 10 low/high samples; results may be unstable.\", InstabilityWarning)\n",
      "/Library/Python/2.7/site-packages/scikits/bootstrap/bootstrap.py:202: InstabilityWarning: Some values used top 10 low/high samples; results may be unstable.\n",
      "  warnings.warn(\"Some values used top 10 low/high samples; results may be unstable.\", InstabilityWarning)\n",
      "/Library/Python/2.7/site-packages/scikits/bootstrap/bootstrap.py:202: InstabilityWarning: Some values used top 10 low/high samples; results may be unstable.\n",
      "  warnings.warn(\"Some values used top 10 low/high samples; results may be unstable.\", InstabilityWarning)\n",
      "/Library/Python/2.7/site-packages/scikits/bootstrap/bootstrap.py:202: InstabilityWarning: Some values used top 10 low/high samples; results may be unstable.\n",
      "  warnings.warn(\"Some values used top 10 low/high samples; results may be unstable.\", InstabilityWarning)\n",
      "/Library/Python/2.7/site-packages/scikits/bootstrap/bootstrap.py:202: InstabilityWarning: Some values used top 10 low/high samples; results may be unstable.\n",
      "  warnings.warn(\"Some values used top 10 low/high samples; results may be unstable.\", InstabilityWarning)\n",
      "/Library/Python/2.7/site-packages/scikits/bootstrap/bootstrap.py:202: InstabilityWarning: Some values used top 10 low/high samples; results may be unstable.\n",
      "  warnings.warn(\"Some values used top 10 low/high samples; results may be unstable.\", InstabilityWarning)\n",
      "/Library/Python/2.7/site-packages/scikits/bootstrap/bootstrap.py:202: InstabilityWarning: Some values used top 10 low/high samples; results may be unstable.\n",
      "  warnings.warn(\"Some values used top 10 low/high samples; results may be unstable.\", InstabilityWarning)\n",
      "/Library/Python/2.7/site-packages/scikits/bootstrap/bootstrap.py:202: InstabilityWarning: Some values used top 10 low/high samples; results may be unstable.\n",
      "  warnings.warn(\"Some values used top 10 low/high samples; results may be unstable.\", InstabilityWarning)\n",
      "/Library/Python/2.7/site-packages/scikits/bootstrap/bootstrap.py:202: InstabilityWarning: Some values used top 10 low/high samples; results may be unstable.\n",
      "  warnings.warn(\"Some values used top 10 low/high samples; results may be unstable.\", InstabilityWarning)\n",
      "/Library/Python/2.7/site-packages/scikits/bootstrap/bootstrap.py:202: InstabilityWarning: Some values used top 10 low/high samples; results may be unstable.\n",
      "  warnings.warn(\"Some values used top 10 low/high samples; results may be unstable.\", InstabilityWarning)\n",
      "/Library/Python/2.7/site-packages/scikits/bootstrap/bootstrap.py:202: InstabilityWarning: Some values used top 10 low/high samples; results may be unstable.\n",
      "  warnings.warn(\"Some values used top 10 low/high samples; results may be unstable.\", InstabilityWarning)\n",
      "/Library/Python/2.7/site-packages/scikits/bootstrap/bootstrap.py:202: InstabilityWarning: Some values used top 10 low/high samples; results may be unstable.\n",
      "  warnings.warn(\"Some values used top 10 low/high samples; results may be unstable.\", InstabilityWarning)\n",
      "/Library/Python/2.7/site-packages/scikits/bootstrap/bootstrap.py:202: InstabilityWarning: Some values used top 10 low/high samples; results may be unstable.\n",
      "  warnings.warn(\"Some values used top 10 low/high samples; results may be unstable.\", InstabilityWarning)\n",
      "/Library/Python/2.7/site-packages/scikits/bootstrap/bootstrap.py:202: InstabilityWarning: Some values used top 10 low/high samples; results may be unstable.\n",
      "  warnings.warn(\"Some values used top 10 low/high samples; results may be unstable.\", InstabilityWarning)\n",
      "/Library/Python/2.7/site-packages/scikits/bootstrap/bootstrap.py:202: InstabilityWarning: Some values used top 10 low/high samples; results may be unstable.\n",
      "  warnings.warn(\"Some values used top 10 low/high samples; results may be unstable.\", InstabilityWarning)\n",
      "/Library/Python/2.7/site-packages/scikits/bootstrap/bootstrap.py:202: InstabilityWarning: Some values used top 10 low/high samples; results may be unstable.\n",
      "  warnings.warn(\"Some values used top 10 low/high samples; results may be unstable.\", InstabilityWarning)\n",
      "/Library/Python/2.7/site-packages/scikits/bootstrap/bootstrap.py:202: InstabilityWarning: Some values used top 10 low/high samples; results may be unstable.\n",
      "  warnings.warn(\"Some values used top 10 low/high samples; results may be unstable.\", InstabilityWarning)\n",
      "/Library/Python/2.7/site-packages/scikits/bootstrap/bootstrap.py:202: InstabilityWarning: Some values used top 10 low/high samples; results may be unstable.\n",
      "  warnings.warn(\"Some values used top 10 low/high samples; results may be unstable.\", InstabilityWarning)\n",
      "/Library/Python/2.7/site-packages/scikits/bootstrap/bootstrap.py:202: InstabilityWarning: Some values used top 10 low/high samples; results may be unstable.\n",
      "  warnings.warn(\"Some values used top 10 low/high samples; results may be unstable.\", InstabilityWarning)\n",
      "/Library/Python/2.7/site-packages/scikits/bootstrap/bootstrap.py:202: InstabilityWarning: Some values used top 10 low/high samples; results may be unstable.\n",
      "  warnings.warn(\"Some values used top 10 low/high samples; results may be unstable.\", InstabilityWarning)\n",
      "/Library/Python/2.7/site-packages/scikits/bootstrap/bootstrap.py:202: InstabilityWarning: Some values used top 10 low/high samples; results may be unstable.\n",
      "  warnings.warn(\"Some values used top 10 low/high samples; results may be unstable.\", InstabilityWarning)\n",
      "/Library/Python/2.7/site-packages/scikits/bootstrap/bootstrap.py:202: InstabilityWarning: Some values used top 10 low/high samples; results may be unstable.\n",
      "  warnings.warn(\"Some values used top 10 low/high samples; results may be unstable.\", InstabilityWarning)\n",
      "/Library/Python/2.7/site-packages/scikits/bootstrap/bootstrap.py:202: InstabilityWarning: Some values used top 10 low/high samples; results may be unstable.\n",
      "  warnings.warn(\"Some values used top 10 low/high samples; results may be unstable.\", InstabilityWarning)\n",
      "/Library/Python/2.7/site-packages/scikits/bootstrap/bootstrap.py:202: InstabilityWarning: Some values used top 10 low/high samples; results may be unstable.\n",
      "  warnings.warn(\"Some values used top 10 low/high samples; results may be unstable.\", InstabilityWarning)\n",
      "/Library/Python/2.7/site-packages/scikits/bootstrap/bootstrap.py:202: InstabilityWarning: Some values used top 10 low/high samples; results may be unstable.\n",
      "  warnings.warn(\"Some values used top 10 low/high samples; results may be unstable.\", InstabilityWarning)\n",
      "/Library/Python/2.7/site-packages/scikits/bootstrap/bootstrap.py:202: InstabilityWarning: Some values used top 10 low/high samples; results may be unstable.\n",
      "  warnings.warn(\"Some values used top 10 low/high samples; results may be unstable.\", InstabilityWarning)\n",
      "/Library/Python/2.7/site-packages/scikits/bootstrap/bootstrap.py:202: InstabilityWarning: Some values used top 10 low/high samples; results may be unstable.\n",
      "  warnings.warn(\"Some values used top 10 low/high samples; results may be unstable.\", InstabilityWarning)\n",
      "/Library/Python/2.7/site-packages/scikits/bootstrap/bootstrap.py:202: InstabilityWarning: Some values used top 10 low/high samples; results may be unstable.\n",
      "  warnings.warn(\"Some values used top 10 low/high samples; results may be unstable.\", InstabilityWarning)\n",
      "/Library/Python/2.7/site-packages/scikits/bootstrap/bootstrap.py:202: InstabilityWarning: Some values used top 10 low/high samples; results may be unstable.\n",
      "  warnings.warn(\"Some values used top 10 low/high samples; results may be unstable.\", InstabilityWarning)\n",
      "/Library/Python/2.7/site-packages/scikits/bootstrap/bootstrap.py:202: InstabilityWarning: Some values used top 10 low/high samples; results may be unstable.\n",
      "  warnings.warn(\"Some values used top 10 low/high samples; results may be unstable.\", InstabilityWarning)\n",
      "/Library/Python/2.7/site-packages/scikits/bootstrap/bootstrap.py:202: InstabilityWarning: Some values used top 10 low/high samples; results may be unstable.\n",
      "  warnings.warn(\"Some values used top 10 low/high samples; results may be unstable.\", InstabilityWarning)\n",
      "/Library/Python/2.7/site-packages/scikits/bootstrap/bootstrap.py:202: InstabilityWarning: Some values used top 10 low/high samples; results may be unstable.\n",
      "  warnings.warn(\"Some values used top 10 low/high samples; results may be unstable.\", InstabilityWarning)\n",
      "/Library/Python/2.7/site-packages/scikits/bootstrap/bootstrap.py:202: InstabilityWarning: Some values used top 10 low/high samples; results may be unstable.\n",
      "  warnings.warn(\"Some values used top 10 low/high samples; results may be unstable.\", InstabilityWarning)\n",
      "/Library/Python/2.7/site-packages/scikits/bootstrap/bootstrap.py:202: InstabilityWarning: Some values used top 10 low/high samples; results may be unstable.\n",
      "  warnings.warn(\"Some values used top 10 low/high samples; results may be unstable.\", InstabilityWarning)\n",
      "/Library/Python/2.7/site-packages/scikits/bootstrap/bootstrap.py:202: InstabilityWarning: Some values used top 10 low/high samples; results may be unstable.\n",
      "  warnings.warn(\"Some values used top 10 low/high samples; results may be unstable.\", InstabilityWarning)\n",
      "/Library/Python/2.7/site-packages/scikits/bootstrap/bootstrap.py:202: InstabilityWarning: Some values used top 10 low/high samples; results may be unstable.\n",
      "  warnings.warn(\"Some values used top 10 low/high samples; results may be unstable.\", InstabilityWarning)\n",
      "/Library/Python/2.7/site-packages/scikits/bootstrap/bootstrap.py:202: InstabilityWarning: Some values used top 10 low/high samples; results may be unstable.\n",
      "  warnings.warn(\"Some values used top 10 low/high samples; results may be unstable.\", InstabilityWarning)\n",
      "/Library/Python/2.7/site-packages/scikits/bootstrap/bootstrap.py:202: InstabilityWarning: Some values used top 10 low/high samples; results may be unstable.\n",
      "  warnings.warn(\"Some values used top 10 low/high samples; results may be unstable.\", InstabilityWarning)\n",
      "/Library/Python/2.7/site-packages/scikits/bootstrap/bootstrap.py:202: InstabilityWarning: Some values used top 10 low/high samples; results may be unstable.\n",
      "  warnings.warn(\"Some values used top 10 low/high samples; results may be unstable.\", InstabilityWarning)\n",
      "/Library/Python/2.7/site-packages/scikits/bootstrap/bootstrap.py:202: InstabilityWarning: Some values used top 10 low/high samples; results may be unstable.\n",
      "  warnings.warn(\"Some values used top 10 low/high samples; results may be unstable.\", InstabilityWarning)\n",
      "/Library/Python/2.7/site-packages/scikits/bootstrap/bootstrap.py:202: InstabilityWarning: Some values used top 10 low/high samples; results may be unstable.\n",
      "  warnings.warn(\"Some values used top 10 low/high samples; results may be unstable.\", InstabilityWarning)\n",
      "/Library/Python/2.7/site-packages/scikits/bootstrap/bootstrap.py:202: InstabilityWarning: Some values used top 10 low/high samples; results may be unstable.\n",
      "  warnings.warn(\"Some values used top 10 low/high samples; results may be unstable.\", InstabilityWarning)\n",
      "/Library/Python/2.7/site-packages/scikits/bootstrap/bootstrap.py:202: InstabilityWarning: Some values used top 10 low/high samples; results may be unstable.\n",
      "  warnings.warn(\"Some values used top 10 low/high samples; results may be unstable.\", InstabilityWarning)\n",
      "/Library/Python/2.7/site-packages/scikits/bootstrap/bootstrap.py:202: InstabilityWarning: Some values used top 10 low/high samples; results may be unstable.\n",
      "  warnings.warn(\"Some values used top 10 low/high samples; results may be unstable.\", InstabilityWarning)\n",
      "/Library/Python/2.7/site-packages/scikits/bootstrap/bootstrap.py:202: InstabilityWarning: Some values used top 10 low/high samples; results may be unstable.\n",
      "  warnings.warn(\"Some values used top 10 low/high samples; results may be unstable.\", InstabilityWarning)\n",
      "/Library/Python/2.7/site-packages/scikits/bootstrap/bootstrap.py:202: InstabilityWarning: Some values used top 10 low/high samples; results may be unstable.\n",
      "  warnings.warn(\"Some values used top 10 low/high samples; results may be unstable.\", InstabilityWarning)\n",
      "/Library/Python/2.7/site-packages/scikits/bootstrap/bootstrap.py:202: InstabilityWarning: Some values used top 10 low/high samples; results may be unstable.\n",
      "  warnings.warn(\"Some values used top 10 low/high samples; results may be unstable.\", InstabilityWarning)\n",
      "/Library/Python/2.7/site-packages/scikits/bootstrap/bootstrap.py:202: InstabilityWarning: Some values used top 10 low/high samples; results may be unstable.\n",
      "  warnings.warn(\"Some values used top 10 low/high samples; results may be unstable.\", InstabilityWarning)\n",
      "/Library/Python/2.7/site-packages/scikits/bootstrap/bootstrap.py:202: InstabilityWarning: Some values used top 10 low/high samples; results may be unstable.\n",
      "  warnings.warn(\"Some values used top 10 low/high samples; results may be unstable.\", InstabilityWarning)\n",
      "/Library/Python/2.7/site-packages/scikits/bootstrap/bootstrap.py:202: InstabilityWarning: Some values used top 10 low/high samples; results may be unstable.\n",
      "  warnings.warn(\"Some values used top 10 low/high samples; results may be unstable.\", InstabilityWarning)\n",
      "/Library/Python/2.7/site-packages/scikits/bootstrap/bootstrap.py:202: InstabilityWarning: Some values used top 10 low/high samples; results may be unstable.\n",
      "  warnings.warn(\"Some values used top 10 low/high samples; results may be unstable.\", InstabilityWarning)\n",
      "/Library/Python/2.7/site-packages/scikits/bootstrap/bootstrap.py:202: InstabilityWarning: Some values used top 10 low/high samples; results may be unstable.\n",
      "  warnings.warn(\"Some values used top 10 low/high samples; results may be unstable.\", InstabilityWarning)\n",
      "/Library/Python/2.7/site-packages/scikits/bootstrap/bootstrap.py:202: InstabilityWarning: Some values used top 10 low/high samples; results may be unstable.\n",
      "  warnings.warn(\"Some values used top 10 low/high samples; results may be unstable.\", InstabilityWarning)\n",
      "/Library/Python/2.7/site-packages/scikits/bootstrap/bootstrap.py:202: InstabilityWarning: Some values used top 10 low/high samples; results may be unstable.\n",
      "  warnings.warn(\"Some values used top 10 low/high samples; results may be unstable.\", InstabilityWarning)\n",
      "/Library/Python/2.7/site-packages/scikits/bootstrap/bootstrap.py:202: InstabilityWarning: Some values used top 10 low/high samples; results may be unstable.\n",
      "  warnings.warn(\"Some values used top 10 low/high samples; results may be unstable.\", InstabilityWarning)\n",
      "/Library/Python/2.7/site-packages/scikits/bootstrap/bootstrap.py:202: InstabilityWarning: Some values used top 10 low/high samples; results may be unstable.\n",
      "  warnings.warn(\"Some values used top 10 low/high samples; results may be unstable.\", InstabilityWarning)\n",
      "/Library/Python/2.7/site-packages/scikits/bootstrap/bootstrap.py:202: InstabilityWarning: Some values used top 10 low/high samples; results may be unstable.\n",
      "  warnings.warn(\"Some values used top 10 low/high samples; results may be unstable.\", InstabilityWarning)\n",
      "/Library/Python/2.7/site-packages/scikits/bootstrap/bootstrap.py:202: InstabilityWarning: Some values used top 10 low/high samples; results may be unstable.\n",
      "  warnings.warn(\"Some values used top 10 low/high samples; results may be unstable.\", InstabilityWarning)\n",
      "/Library/Python/2.7/site-packages/scikits/bootstrap/bootstrap.py:202: InstabilityWarning: Some values used top 10 low/high samples; results may be unstable.\n",
      "  warnings.warn(\"Some values used top 10 low/high samples; results may be unstable.\", InstabilityWarning)\n",
      "/Library/Python/2.7/site-packages/scikits/bootstrap/bootstrap.py:202: InstabilityWarning: Some values used top 10 low/high samples; results may be unstable.\n",
      "  warnings.warn(\"Some values used top 10 low/high samples; results may be unstable.\", InstabilityWarning)\n",
      "/Library/Python/2.7/site-packages/scikits/bootstrap/bootstrap.py:202: InstabilityWarning: Some values used top 10 low/high samples; results may be unstable.\n",
      "  warnings.warn(\"Some values used top 10 low/high samples; results may be unstable.\", InstabilityWarning)\n",
      "/Library/Python/2.7/site-packages/scikits/bootstrap/bootstrap.py:202: InstabilityWarning: Some values used top 10 low/high samples; results may be unstable.\n",
      "  warnings.warn(\"Some values used top 10 low/high samples; results may be unstable.\", InstabilityWarning)\n",
      "/Library/Python/2.7/site-packages/scikits/bootstrap/bootstrap.py:202: InstabilityWarning: Some values used top 10 low/high samples; results may be unstable.\n",
      "  warnings.warn(\"Some values used top 10 low/high samples; results may be unstable.\", InstabilityWarning)\n",
      "/Library/Python/2.7/site-packages/scikits/bootstrap/bootstrap.py:202: InstabilityWarning: Some values used top 10 low/high samples; results may be unstable.\n",
      "  warnings.warn(\"Some values used top 10 low/high samples; results may be unstable.\", InstabilityWarning)\n",
      "/Library/Python/2.7/site-packages/scikits/bootstrap/bootstrap.py:202: InstabilityWarning: Some values used top 10 low/high samples; results may be unstable.\n",
      "  warnings.warn(\"Some values used top 10 low/high samples; results may be unstable.\", InstabilityWarning)\n",
      "/Library/Python/2.7/site-packages/scikits/bootstrap/bootstrap.py:202: InstabilityWarning: Some values used top 10 low/high samples; results may be unstable.\n",
      "  warnings.warn(\"Some values used top 10 low/high samples; results may be unstable.\", InstabilityWarning)\n",
      "/Library/Python/2.7/site-packages/scikits/bootstrap/bootstrap.py:202: InstabilityWarning: Some values used top 10 low/high samples; results may be unstable.\n",
      "  warnings.warn(\"Some values used top 10 low/high samples; results may be unstable.\", InstabilityWarning)\n",
      "/Library/Python/2.7/site-packages/scikits/bootstrap/bootstrap.py:202: InstabilityWarning: Some values used top 10 low/high samples; results may be unstable.\n",
      "  warnings.warn(\"Some values used top 10 low/high samples; results may be unstable.\", InstabilityWarning)\n",
      "/Library/Python/2.7/site-packages/scikits/bootstrap/bootstrap.py:202: InstabilityWarning: Some values used top 10 low/high samples; results may be unstable.\n",
      "  warnings.warn(\"Some values used top 10 low/high samples; results may be unstable.\", InstabilityWarning)\n",
      "/Library/Python/2.7/site-packages/scikits/bootstrap/bootstrap.py:202: InstabilityWarning: Some values used top 10 low/high samples; results may be unstable.\n",
      "  warnings.warn(\"Some values used top 10 low/high samples; results may be unstable.\", InstabilityWarning)\n",
      "/Library/Python/2.7/site-packages/scikits/bootstrap/bootstrap.py:202: InstabilityWarning: Some values used top 10 low/high samples; results may be unstable.\n",
      "  warnings.warn(\"Some values used top 10 low/high samples; results may be unstable.\", InstabilityWarning)\n",
      "/Library/Python/2.7/site-packages/scikits/bootstrap/bootstrap.py:202: InstabilityWarning: Some values used top 10 low/high samples; results may be unstable.\n",
      "  warnings.warn(\"Some values used top 10 low/high samples; results may be unstable.\", InstabilityWarning)\n",
      "/Library/Python/2.7/site-packages/scikits/bootstrap/bootstrap.py:202: InstabilityWarning: Some values used top 10 low/high samples; results may be unstable.\n",
      "  warnings.warn(\"Some values used top 10 low/high samples; results may be unstable.\", InstabilityWarning)\n",
      "/Library/Python/2.7/site-packages/scikits/bootstrap/bootstrap.py:202: InstabilityWarning: Some values used top 10 low/high samples; results may be unstable.\n",
      "  warnings.warn(\"Some values used top 10 low/high samples; results may be unstable.\", InstabilityWarning)\n",
      "/Library/Python/2.7/site-packages/scikits/bootstrap/bootstrap.py:202: InstabilityWarning: Some values used top 10 low/high samples; results may be unstable.\n",
      "  warnings.warn(\"Some values used top 10 low/high samples; results may be unstable.\", InstabilityWarning)\n",
      "/Library/Python/2.7/site-packages/scikits/bootstrap/bootstrap.py:202: InstabilityWarning: Some values used top 10 low/high samples; results may be unstable.\n",
      "  warnings.warn(\"Some values used top 10 low/high samples; results may be unstable.\", InstabilityWarning)\n",
      "/Library/Python/2.7/site-packages/scikits/bootstrap/bootstrap.py:202: InstabilityWarning: Some values used top 10 low/high samples; results may be unstable.\n",
      "  warnings.warn(\"Some values used top 10 low/high samples; results may be unstable.\", InstabilityWarning)\n",
      "/Library/Python/2.7/site-packages/scikits/bootstrap/bootstrap.py:202: InstabilityWarning: Some values used top 10 low/high samples; results may be unstable.\n",
      "  warnings.warn(\"Some values used top 10 low/high samples; results may be unstable.\", InstabilityWarning)\n",
      "/Library/Python/2.7/site-packages/scikits/bootstrap/bootstrap.py:202: InstabilityWarning: Some values used top 10 low/high samples; results may be unstable.\n",
      "  warnings.warn(\"Some values used top 10 low/high samples; results may be unstable.\", InstabilityWarning)\n",
      "/Library/Python/2.7/site-packages/scikits/bootstrap/bootstrap.py:202: InstabilityWarning: Some values used top 10 low/high samples; results may be unstable.\n",
      "  warnings.warn(\"Some values used top 10 low/high samples; results may be unstable.\", InstabilityWarning)\n",
      "/Library/Python/2.7/site-packages/scikits/bootstrap/bootstrap.py:202: InstabilityWarning: Some values used top 10 low/high samples; results may be unstable.\n",
      "  warnings.warn(\"Some values used top 10 low/high samples; results may be unstable.\", InstabilityWarning)\n",
      "/Library/Python/2.7/site-packages/scikits/bootstrap/bootstrap.py:202: InstabilityWarning: Some values used top 10 low/high samples; results may be unstable.\n",
      "  warnings.warn(\"Some values used top 10 low/high samples; results may be unstable.\", InstabilityWarning)\n",
      "/Library/Python/2.7/site-packages/scikits/bootstrap/bootstrap.py:202: InstabilityWarning: Some values used top 10 low/high samples; results may be unstable.\n",
      "  warnings.warn(\"Some values used top 10 low/high samples; results may be unstable.\", InstabilityWarning)\n",
      "/Library/Python/2.7/site-packages/scikits/bootstrap/bootstrap.py:202: InstabilityWarning: Some values used top 10 low/high samples; results may be unstable.\n",
      "  warnings.warn(\"Some values used top 10 low/high samples; results may be unstable.\", InstabilityWarning)\n",
      "/Library/Python/2.7/site-packages/scikits/bootstrap/bootstrap.py:202: InstabilityWarning: Some values used top 10 low/high samples; results may be unstable.\n",
      "  warnings.warn(\"Some values used top 10 low/high samples; results may be unstable.\", InstabilityWarning)\n",
      "/Library/Python/2.7/site-packages/scikits/bootstrap/bootstrap.py:202: InstabilityWarning: Some values used top 10 low/high samples; results may be unstable.\n",
      "  warnings.warn(\"Some values used top 10 low/high samples; results may be unstable.\", InstabilityWarning)\n",
      "/Library/Python/2.7/site-packages/scikits/bootstrap/bootstrap.py:202: InstabilityWarning: Some values used top 10 low/high samples; results may be unstable.\n",
      "  warnings.warn(\"Some values used top 10 low/high samples; results may be unstable.\", InstabilityWarning)\n",
      "/Library/Python/2.7/site-packages/scikits/bootstrap/bootstrap.py:202: InstabilityWarning: Some values used top 10 low/high samples; results may be unstable.\n",
      "  warnings.warn(\"Some values used top 10 low/high samples; results may be unstable.\", InstabilityWarning)\n",
      "/Library/Python/2.7/site-packages/scikits/bootstrap/bootstrap.py:202: InstabilityWarning: Some values used top 10 low/high samples; results may be unstable.\n",
      "  warnings.warn(\"Some values used top 10 low/high samples; results may be unstable.\", InstabilityWarning)\n",
      "/Library/Python/2.7/site-packages/scikits/bootstrap/bootstrap.py:202: InstabilityWarning: Some values used top 10 low/high samples; results may be unstable.\n",
      "  warnings.warn(\"Some values used top 10 low/high samples; results may be unstable.\", InstabilityWarning)\n",
      "/Library/Python/2.7/site-packages/scikits/bootstrap/bootstrap.py:202: InstabilityWarning: Some values used top 10 low/high samples; results may be unstable.\n",
      "  warnings.warn(\"Some values used top 10 low/high samples; results may be unstable.\", InstabilityWarning)\n"
     ]
    }
   ],
   "source": [
    "for m in range(0,100):\n",
    "    bootstrap_lasso(m)\n"
   ]
  },
  {
   "cell_type": "markdown",
   "metadata": {},
   "source": [
    "** Let us estimate the empirical coverage probability **"
   ]
  },
  {
   "cell_type": "code",
   "execution_count": 124,
   "metadata": {
    "collapsed": false
   },
   "outputs": [
    {
     "data": {
      "text/plain": [
       "<matplotlib.axes.AxesSubplot at 0x118e0e5d0>"
      ]
     },
     "execution_count": 124,
     "metadata": {},
     "output_type": "execute_result"
    },
    {
     "data": {
      "image/png": "[encoded data removed]",
      "text/plain": [
       "<matplotlib.figure.Figure at 0x118af07d0>"
      ]
     },
     "metadata": {},
     "output_type": "display_data"
    }
   ],
   "source": [
    "mean1 = table.mean()\n",
    "std1 = table.std()\n",
    "mean1.plot(kind='bar')"
   ]
  },
  {
   "cell_type": "code",
   "execution_count": 125,
   "metadata": {
    "collapsed": false
   },
   "outputs": [
    {
     "data": {
      "text/plain": [
       "beta1    0.96\n",
       "beta2    0.96\n",
       "beta3    0.99\n",
       "beta4    0.99\n",
       "beta5    0.94\n",
       "dtype: float64"
      ]
     },
     "execution_count": 125,
     "metadata": {},
     "output_type": "execute_result"
    }
   ],
   "source": [
    "mean1"
   ]
  },
  {
   "cell_type": "code",
   "execution_count": null,
   "metadata": {
    "collapsed": false
   },
   "outputs": [],
   "source": []
  },
  {
   "cell_type": "code",
   "execution_count": null,
   "metadata": {
    "collapsed": false
   },
   "outputs": [],
   "source": []
  },
  {
   "cell_type": "code",
   "execution_count": null,
   "metadata": {
    "collapsed": false
   },
   "outputs": [],
   "source": []
  },
  {
   "cell_type": "code",
   "execution_count": null,
   "metadata": {
    "collapsed": false
   },
   "outputs": [],
   "source": []
  },
  {
   "cell_type": "code",
   "execution_count": null,
   "metadata": {
    "collapsed": true
   },
   "outputs": [],
   "source": []
  }
 ],
 "metadata": {
  "kernelspec": {
   "display_name": "Python 2",
   "language": "python",
   "name": "python2"
  },
  "language_info": {
   "codemirror_mode": {
    "name": "ipython",
    "version": 2
   },
   "file_extension": ".py",
   "mimetype": "text/x-python",
   "name": "python",
   "nbconvert_exporter": "python",
   "pygments_lexer": "ipython2",
   "version": "2.7.6"
  }
 },
 "nbformat": 4,
 "nbformat_minor": 0
}
