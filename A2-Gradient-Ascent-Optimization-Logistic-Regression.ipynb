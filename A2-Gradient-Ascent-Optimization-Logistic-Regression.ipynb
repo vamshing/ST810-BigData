{
 "cells": [
  {
   "cell_type": "markdown",
   "metadata": {},
   "source": [
    "# Optimizing the parameters for Logistic Regression\n",
    "\n",
    "This is used to optimize the function \n",
    "\n",
    "09/02 - Created with iPython Notebook"
   ]
  },
  {
   "cell_type": "markdown",
   "metadata": {},
   "source": [
    "# Objective:\n",
    "We shall create a function to perform maximum likelihood analysis for logistic regression with one covariate. The aim is to implement a gradient descent function ,to find the maximum likelihood estimate of (β1, β2), and showing that the function gives the same solution as the standard logistic regression function:"
   ]
  },
  {
   "cell_type": "markdown",
   "metadata": {},
   "source": [
    "# Method"
   ]
  },
  {
   "cell_type": "raw",
   "metadata": {},
   "source": [
    "This code demonstrates the use of gradient ascent for optimization of a bivariate likelihood.\n",
    "The gradient ascent method is\n",
    "βt=βt−1+γf′(β).\n",
    "The gradient ascent method with momentum is\n",
    "βt=βt−1+γ1f′(β)+γ2(βt−1−βt−2)."
   ]
  },
  {
   "cell_type": "markdown",
   "metadata": {},
   "source": [
    "# The log likelihood function"
   ]
  },
  {
   "cell_type": "code",
   "execution_count": 27,
   "metadata": {
    "collapsed": false
   },
   "outputs": [],
   "source": [
    "%load_ext Cython\n",
    "import math\n",
    "import numpy as np\n",
    "import matplotlib.pyplot as plt\n",
    "%matplotlib inline\n",
    "# n,x,y,xb\n",
    "n = 10\n",
    "beta = np.array([-2,0.5])\n",
    "x = np.random.binomial(1,0.5,size=n)\n",
    "for i in range(len(x)):\n",
    "    y = np.random.binomial(1,1/(1+math.exp(-beta[0]-x[i]*beta[1])),size=n)"
   ]
  },
  {
   "cell_type": "code",
   "execution_count": null,
   "metadata": {
    "collapsed": false
   },
   "outputs": [],
   "source": [
    "def log_likelihood(y,x,beta):  \n",
    "    xb = beta[0]+x*beta[1]\n",
    "    ll = 0.0\n",
    "    for j in range(0,len(y)):\n",
    "        ll = ll + y[j]*xb[j] - math.log(1 + math.exp(xb[j]))\n",
    "    return ll"
   ]
  },
  {
   "cell_type": "markdown",
   "metadata": {},
   "source": [
    "Let us try to simulate the values of beta1 and beta2 on the log likelihood function"
   ]
  },
  {
   "cell_type": "code",
   "execution_count": null,
   "metadata": {
    "collapsed": false
   },
   "outputs": [],
   "source": [
    "beta1 = np.arange(-3,-1,0.01)\n",
    "beta2 = np.arange(0,2,0.01)\n",
    "intensity = np.zeros((len(beta1),len(beta2)))\n",
    "for i in range(len(beta1)):\n",
    "    for j in range(len(beta2)):\n",
    "        intensity[i][j] = log_likelihood(y,x,[beta1[i],beta2[j]])\n",
    "#The heat map\n",
    "beta1, beta2 = np.meshgrid(beta1, beta2)\n",
    "intensity = np.array(intensity)\n",
    "plt.pcolormesh(beta1, beta2, intensity)\n",
    "plt.colorbar() \n",
    "plt.show()"
   ]
  },
  {
   "cell_type": "markdown",
   "metadata": {},
   "source": [
    "# Optimize the maximum likelihood by gradient ascent"
   ]
  },
  {
   "cell_type": "raw",
   "metadata": {},
   "source": [
    "βt = βt−1 + γ*f′(β) - The f′(β) method is defined by the gradient function"
   ]
  },
  {
   "cell_type": "code",
   "execution_count": 30,
   "metadata": {
    "collapsed": false
   },
   "outputs": [],
   "source": [
    "def grad_fn(y,x,beta):\n",
    "    xb = beta[0]+x*beta[1]\n",
    "    l1 = 0.0\n",
    "    l2 = 0.0\n",
    "    for k in range(0,len(x)):\n",
    "        l1 = l1 + y[k] - math.exp(xb[k])/(1+math.exp(xb[k]))\n",
    "        l2 = l2 + x[k]*y[k] - x[k]*math.exp(xb[k])/(1+math.exp(xb[k]))\n",
    "    return np.array([l1,l2])"
   ]
  },
  {
   "cell_type": "code",
   "execution_count": null,
   "metadata": {
    "collapsed": false
   },
   "outputs": [],
   "source": [
    "%%cython -a\n",
    "cimport cython\n",
    "import numpy as np\n",
    "cimport numpy as np\n",
    "from libc.math cimport log,exp\n",
    "cpdef public np.ndarray[np.float] grad_fn_cpp(np.ndarray[long,ndim=1,mode='c'] y,np.ndarray[long,ndim=1,mode='c'] x,np.ndarray[double,ndim=1,mode='c'] xb):    \n",
    "    cdef float l1 = 0.0,l2 = 0.0\n",
    "    cdef int count,k = 0\n",
    "    cdef np.ndarray[np.double_t, ndim=1, mode=\"c\"] Y \n",
    "    count = x.shape[0]\n",
    "    for k from 0<=k<count:\n",
    "        l1 += (y[k]) - exp(xb[k])/(1+exp(xb[k]))\n",
    "        l2 += (x[k]*y[k]) - (x[k]*exp(xb[k])/(1+exp(xb[k])))\n",
    "    Y = np.array([l1,l2])\n",
    "    return Y"
   ]
  },
  {
   "cell_type": "code",
   "execution_count": 31,
   "metadata": {
    "collapsed": false
   },
   "outputs": [],
   "source": [
    "# The optimizer\n",
    "beta_0 = np.array([-1.0,0.0])\n",
    "beta_1 = np.array([0.0,0.0])\n",
    "iterations = 50\n",
    "gamma = 0.001\n",
    "\n",
    "for i in range(iterations):\n",
    "    beta_1 = beta_0 + (gamma * grad_fn(y,x,beta_0))\n",
    "    beta_0 = beta_1\n",
    "    iterations = iterations + 1"
   ]
  },
  {
   "cell_type": "raw",
   "metadata": {
    "collapsed": false
   },
   "source": [
    "beta_1\n",
    "array([-1.08021836, -0.01492521])"
   ]
  },
  {
   "cell_type": "code",
   "execution_count": null,
   "metadata": {
    "collapsed": false
   },
   "outputs": [],
   "source": [
    "%%cython -a\n",
    "cimport cython\n",
    "import numpy as np\n",
    "cimport numpy as np\n",
    "from libc.math cimport log,exp\n",
    "\n",
    "cpdef public np.ndarray[np.float] optimize_cpp(np.ndarray[long,ndim=1,mode='c'] y,np.ndarray[long,ndim=1,mode='c'] x):\n",
    "    beta_0 = np.array([-1.0,0.0])\n",
    "    beta_1 = np.zeros((2,))\n",
    "    cdef int iterations = 50,k = 0\n",
    "    cdef float gamma = 0.001\n",
    "\n",
    "    for k from 0<=k<iterations:\n",
    "        beta_1 = beta_0 + (gamma * grad_fn_cpp(y,x,beta_0))\n",
    "        beta_0 = beta_1\n",
    "        iterations = iterations + 1\n",
    "    print beta_1"
   ]
  }
 ],
 "metadata": {
  "kernelspec": {
   "display_name": "Python 2",
   "language": "python",
   "name": "python2"
  },
  "language_info": {
   "codemirror_mode": {
    "name": "ipython",
    "version": 2
   },
   "file_extension": ".py",
   "mimetype": "text/x-python",
   "name": "python",
   "nbconvert_exporter": "python",
   "pygments_lexer": "ipython2",
   "version": "2.7.6"
  }
 },
 "nbformat": 4,
 "nbformat_minor": 0
}
